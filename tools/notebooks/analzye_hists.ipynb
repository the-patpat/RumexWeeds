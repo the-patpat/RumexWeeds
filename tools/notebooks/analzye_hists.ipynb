{
 "cells": [
  {
   "cell_type": "code",
   "execution_count": 2,
   "metadata": {},
   "outputs": [],
   "source": [
    "import matplotlib.pyplot as plt\n",
    "import cv2\n",
    "import fiftyone as fo\n",
    "import numpy as np\n",
    "\n",
    "dataset = fo.load_dataset(\"RumexWeeds\")"
   ]
  },
  {
   "cell_type": "code",
   "execution_count": 3,
   "metadata": {},
   "outputs": [
    {
     "data": {
      "text/plain": [
       "(0.0, 266584.5)"
      ]
     },
     "execution_count": 3,
     "metadata": {},
     "output_type": "execute_result"
    },
    {
     "data": {
      "image/png": "[encoded data removed]",
      "text/plain": [
       "<Figure size 432x288 with 1 Axes>"
      ]
     },
     "metadata": {
      "needs_background": "light"
     },
     "output_type": "display_data"
    }
   ],
   "source": [
    "sample = dataset.take(1).first()\n",
    "\n",
    "img = cv2.imread(sample['filepath'])\n",
    "\n",
    "fig, ax = plt.subplots(1,1)\n",
    "\n",
    "ax.hist(img[:,:,0]/np.linalg.norm(img[:, :, 0].flatten()), bins=256, color=(0,0,1.0, 0.5))\n",
    "ax.hist(img[:,:,1]/np.linalg.norm(img[:, :, 1].flatten()), bins=256, color=(0,1.0,0,0.5))\n",
    "ax.hist(img[:,:,2] / np.linalg.norm(img[:, :, 2].flatten()), bins=256, color=(1.0, 0, 0, 0.5))\n",
    "ax.set_xlim(1,255)\n",
    "ax.set_ylim()"
   ]
  },
  {
   "cell_type": "code",
   "execution_count": 1,
   "metadata": {},
   "outputs": [
    {
     "ename": "NameError",
     "evalue": "name 'np' is not defined",
     "output_type": "error",
     "traceback": [
      "\u001b[0;31m---------------------------------------------------------------------------\u001b[0m",
      "\u001b[0;31mNameError\u001b[0m                                 Traceback (most recent call last)",
      "\u001b[1;32m/mnt/d/OneDrive - Danmarks Tekniske Universitet/Thesis/Experiments/RumexWeeds/tools/notebooks/analzye_hists.ipynb Cell 4'\u001b[0m in \u001b[0;36m<module>\u001b[0;34m\u001b[0m\n\u001b[0;32m----> <a href='vscode-notebook-cell://wsl%2Bubuntu-18.04/mnt/d/OneDrive%20-%20Danmarks%20Tekniske%20Universitet/Thesis/Experiments/RumexWeeds/tools/notebooks/analzye_hists.ipynb#ch0000004vscode-remote?line=0'>1</a>\u001b[0m np\u001b[39m.\u001b[39marange(\u001b[39m256\u001b[39m)\n",
      "\u001b[0;31mNameError\u001b[0m: name 'np' is not defined"
     ]
    }
   ],
   "source": [
    "np.arange(256)"
   ]
  },
  {
   "cell_type": "code",
   "execution_count": 11,
   "metadata": {},
   "outputs": [
    {
     "data": {
      "text/plain": [
       "(1200, 1920, 3)"
      ]
     },
     "execution_count": 11,
     "metadata": {},
     "output_type": "execute_result"
    }
   ],
   "source": [
    "img.shape"
   ]
  }
 ],
 "metadata": {
  "interpreter": {
   "hash": "e42a55181f121158a42f92e69485864b9ecfda4e76420aabfd16d5b20265c656"
  },
  "kernelspec": {
   "display_name": "Python 3.9.10 ('yolov5')",
   "language": "python",
   "name": "python3"
  },
  "language_info": {
   "codemirror_mode": {
    "name": "ipython",
    "version": 3
   },
   "file_extension": ".py",
   "mimetype": "text/x-python",
   "name": "python",
   "nbconvert_exporter": "python",
   "pygments_lexer": "ipython3",
   "version": "3.9.10"
  },
  "orig_nbformat": 4
 },
 "nbformat": 4,
 "nbformat_minor": 2
}
